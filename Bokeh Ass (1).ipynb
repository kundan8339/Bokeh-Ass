{
 "cells": [
  {
   "cell_type": "code",
   "execution_count": null,
   "id": "f8c9a9cd-4ae3-49e4-b7c9-eca82625de17",
   "metadata": {},
   "outputs": [],
   "source": [
    "Q1. How can you create a Bokeh plot using Python code?"
   ]
  },
  {
   "cell_type": "code",
   "execution_count": 6,
   "id": "f09007a9-b522-45b1-a73e-3c0f5576a138",
   "metadata": {},
   "outputs": [
    {
     "name": "stdout",
     "output_type": "stream",
     "text": [
      "Requirement already satisfied: bokeh in /opt/conda/lib/python3.10/site-packages (3.0.3)\n",
      "Requirement already satisfied: packaging>=16.8 in /opt/conda/lib/python3.10/site-packages (from bokeh) (22.0)\n",
      "Requirement already satisfied: numpy>=1.11.3 in /opt/conda/lib/python3.10/site-packages (from bokeh) (1.23.5)\n",
      "Requirement already satisfied: xyzservices>=2021.09.1 in /opt/conda/lib/python3.10/site-packages (from bokeh) (2022.9.0)\n",
      "Requirement already satisfied: tornado>=5.1 in /opt/conda/lib/python3.10/site-packages (from bokeh) (6.1)\n",
      "Requirement already satisfied: PyYAML>=3.10 in /opt/conda/lib/python3.10/site-packages (from bokeh) (6.0)\n",
      "Requirement already satisfied: Jinja2>=2.9 in /opt/conda/lib/python3.10/site-packages (from bokeh) (3.1.2)\n",
      "Requirement already satisfied: pandas>=1.2 in /opt/conda/lib/python3.10/site-packages (from bokeh) (1.5.2)\n",
      "Requirement already satisfied: contourpy>=1 in /opt/conda/lib/python3.10/site-packages (from bokeh) (1.0.6)\n",
      "Requirement already satisfied: pillow>=7.1.0 in /opt/conda/lib/python3.10/site-packages (from bokeh) (9.2.0)\n",
      "Requirement already satisfied: MarkupSafe>=2.0 in /opt/conda/lib/python3.10/site-packages (from Jinja2>=2.9->bokeh) (2.1.1)\n",
      "Requirement already satisfied: python-dateutil>=2.8.1 in /opt/conda/lib/python3.10/site-packages (from pandas>=1.2->bokeh) (2.8.2)\n",
      "Requirement already satisfied: pytz>=2020.1 in /opt/conda/lib/python3.10/site-packages (from pandas>=1.2->bokeh) (2022.6)\n",
      "Requirement already satisfied: six>=1.5 in /opt/conda/lib/python3.10/site-packages (from python-dateutil>=2.8.1->pandas>=1.2->bokeh) (1.16.0)\n",
      "Note: you may need to restart the kernel to use updated packages.\n"
     ]
    }
   ],
   "source": [
    "pip install bokeh"
   ]
  },
  {
   "cell_type": "code",
   "execution_count": 8,
   "id": "b62d1a8a-ee84-4a2e-939d-a08f715731e5",
   "metadata": {},
   "outputs": [],
   "source": [
    "from bokeh.plotting import figure, show\n",
    "from bokeh.io import output_file\n",
    "\n",
    "x=[1,2,3,4,5]\n",
    "y=[6,7,2,4,5]\n",
    "output_file(\"simple_bokeh_plot.html\")\n",
    "p=figure(title=\"Simple Bokeh Plot\" ,x_axis_label='X-Axis' ,y_axis_label='Y-Axis')\n",
    "\n",
    "p.line(x,y, legend_label=\"Line\",line_width=2)\n",
    "\n",
    "show(p)"
   ]
  },
  {
   "cell_type": "code",
   "execution_count": null,
   "id": "caa4d650-4f16-44cc-adc6-d34d45304c1d",
   "metadata": {},
   "outputs": [],
   "source": [
    "Q2. What are glyphs in Bokeh, and how can you add them to a Bokeh plot? Explain with an example."
   ]
  },
  {
   "cell_type": "code",
   "execution_count": 13,
   "id": "0571c8fc-783f-432f-9088-5029f98e0900",
   "metadata": {},
   "outputs": [],
   "source": [
    "from bokeh.plotting import figure,show,output_file\n",
    "from bokeh.io import push_notebook\n",
    "from bokeh.models import ColumnDataSource"
   ]
  },
  {
   "cell_type": "code",
   "execution_count": 16,
   "id": "2c85de13-da8a-4383-b41e-ee0bb3c8a6f8",
   "metadata": {},
   "outputs": [],
   "source": [
    "data={'x':[1,2,3,4,5],'y':[6,7,2,4,5]}\n",
    "source=ColumnDataSource(data=data)\n",
    "p=figure(title=\"Example Bokeh Plot with Glyphs\",x_axis_label='X-axis', y_axis_label='Y-axis')\n",
    "p.circle(x='x', y='y',size=10,color='navy',alpha=0.5,source=source)\n",
    "p.line(x='x', y='y',line_width=2,color='orange',source=source)\n",
    "output_file(\"glyphs_example.html\")\n",
    "show(p)"
   ]
  },
  {
   "cell_type": "code",
   "execution_count": null,
   "id": "5a658cef-afc7-4c9a-a477-b9ff65755785",
   "metadata": {},
   "outputs": [],
   "source": [
    "Q3. How can you customize the appearance of a Bokeh plot, including the axes, title, and legend?"
   ]
  },
  {
   "cell_type": "code",
   "execution_count": 17,
   "id": "56e56a1f-de25-4bce-a103-41d9cfc5146c",
   "metadata": {},
   "outputs": [],
   "source": [
    "from bokeh.plotting import figure, show\n"
   ]
  },
  {
   "cell_type": "code",
   "execution_count": 19,
   "id": "759da6be-9a39-48b9-84ce-2b1aad8e4f35",
   "metadata": {},
   "outputs": [
    {
     "name": "stderr",
     "output_type": "stream",
     "text": [
      "BokehUserWarning: ColumnDataSource's columns must be of the same length. Current lengths: ('x', 5), ('y', 4)\n"
     ]
    }
   ],
   "source": [
    "p=figure(title=\"Customized Bokeh Plot\",x_axis_label='X Axis',y_axis_label='Y Axis')\n",
    "p.line([1,2,3,4,5],[3,5,8.5,1],legend_label=\"Line\",line_width=2)\n",
    "p.title.text_font_size='16pt'\n",
    "p.title.align='center'\n",
    "p.title.text_color='darkblue'\n",
    "\n",
    "p.xaxis.axis_label_text_font_size = '12pt'\n",
    "p.xaxis.axis_label_text_color='darkgreen'\n",
    "p.xaxis.major_label_text_color='black'\n",
    "p.xaxis.major_label_text_color='blue'\n",
    "\n",
    "p.yaxis.axis_label_text_font_size = '12pt'\n",
    "p.yaxis.axis_label_text_color='darkgreen'\n",
    "p.yaxis.major_label_text_color='black'\n",
    "p.yaxis.major_label_text_color='blue'\n",
    "\n",
    "p.legend.title=\"Legend\"\n",
    "p.legend.title_text_font_style=\"italic\"\n",
    "p.legend.title_text_font_size='10pt'\n",
    "p.legend.location='top_left'\n",
    "p.legend.border_line_width=2\n",
    "p.legend.border_line_color='black'\n",
    "p.legend.background_fill_color='lightgray'\n",
    "\n",
    "p.xgrid.grid_line_color='gray'\n",
    "p.ygrid.grid_line_color='gray'\n",
    "p.xgrid.grid_line_dash=[6,4]\n",
    "p.ygrid.grid_line_dash=[6,4]\n",
    "show(p)"
   ]
  },
  {
   "cell_type": "code",
   "execution_count": null,
   "id": "85fba729-85f1-47e8-8274-ebe46e5eee14",
   "metadata": {},
   "outputs": [],
   "source": []
  },
  {
   "cell_type": "code",
   "execution_count": null,
   "id": "6552c527-b5bc-47c0-b758-e1b3b00b9a73",
   "metadata": {},
   "outputs": [],
   "source": [
    "Q4. What is a Bokeh server, and how can you use it to create interactive plots that can be updated in\n",
    "real time?"
   ]
  },
  {
   "cell_type": "code",
   "execution_count": 10,
   "id": "d5d47128-a55e-4d58-b5a9-6d3d27121484",
   "metadata": {},
   "outputs": [],
   "source": [
    "import numpy as np"
   ]
  },
  {
   "cell_type": "code",
   "execution_count": 11,
   "id": "2d439ecf-d4b6-4c23-b444-de188ecd370f",
   "metadata": {},
   "outputs": [],
   "source": [
    "from bokeh.driving import linear"
   ]
  },
  {
   "cell_type": "code",
   "execution_count": 14,
   "id": "34bd1f41-52c9-4fb2-ab0f-c3031bced185",
   "metadata": {},
   "outputs": [],
   "source": [
    "from bokeh.models import ColumnDataSource\n",
    "from bokeh.plotting import figure\n",
    "from bokeh.io import curdoc"
   ]
  },
  {
   "cell_type": "code",
   "execution_count": 15,
   "id": "5d9aa018-8aa1-47e9-959c-abc30921ea6d",
   "metadata": {},
   "outputs": [],
   "source": [
    "source=ColumnDataSource(data=dict(x=[0],y=[0]))\n",
    "plot=figure()\n",
    "plot.line('x','y',source=source)\n",
    "\n",
    "def update(step):\n",
    "    new_data=dict(x=[step], y=[np.sin(step / 10.0)])\n",
    "    source.stream(new_data,rollover=200)\n",
    "curdoc().add_periodic_callback(update,100)\n",
    "\n",
    "curdoc().add_root(plot)\n"
   ]
  },
  {
   "cell_type": "code",
   "execution_count": null,
   "id": "6dfa7592-dd35-4af7-a6ad-7a3005b1034b",
   "metadata": {},
   "outputs": [],
   "source": [
    "Q5. How can you embed a Bokeh plot into a web page or dashboard using Flask or Django?"
   ]
  },
  {
   "cell_type": "markdown",
   "id": "d1caa85f-45e8-4c39-af10-66e1e55160bb",
   "metadata": {},
   "source": [
    "A Bokeh server is a component of the Bokeh library in Python that allows for the Creation of interative web application and plots that can update in real time.Unlike static plots, Bokeh server application enable users to interact with data and visulize changes dynamically, without needing to reload the web page.This makes it especially useful for application like dashboards, live data feeds, and in"
   ]
  },
  {
   "cell_type": "code",
   "execution_count": null,
   "id": "73425886-bde1-4e6b-a4c6-a955fc7e6594",
   "metadata": {},
   "outputs": [],
   "source": []
  },
  {
   "cell_type": "code",
   "execution_count": null,
   "id": "abf3db66-8cbe-419a-b749-a814a9838381",
   "metadata": {},
   "outputs": [],
   "source": []
  }
 ],
 "metadata": {
  "kernelspec": {
   "display_name": "Python 3 (ipykernel)",
   "language": "python",
   "name": "python3"
  },
  "language_info": {
   "codemirror_mode": {
    "name": "ipython",
    "version": 3
   },
   "file_extension": ".py",
   "mimetype": "text/x-python",
   "name": "python",
   "nbconvert_exporter": "python",
   "pygments_lexer": "ipython3",
   "version": "3.10.8"
  }
 },
 "nbformat": 4,
 "nbformat_minor": 5
}
